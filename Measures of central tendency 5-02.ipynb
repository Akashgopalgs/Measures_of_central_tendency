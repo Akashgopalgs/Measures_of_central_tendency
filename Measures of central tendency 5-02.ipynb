{
 "cells": [
  {
   "cell_type": "raw",
   "id": "9f8d8ec5",
   "metadata": {},
   "source": [
    " Define mean, median, and mode. How are they calculated?"
   ]
  },
  {
   "cell_type": "markdown",
   "id": "f337da38",
   "metadata": {},
   "source": [
    "* Mean is the average of list of numbers\n",
    "\n",
    "      calculate mean=sum of values/number of values\n",
    "* Median is the middle number in a list of numbers\n",
    "\n",
    "      calculate median--  sort the values in assending order,If the total values are odd middle value is the median If total values are odd average of the 2 middle values is the median.\n",
    "* Mode is the most common value \n",
    "\n",
    "       mode -- most repeated value or a number"
   ]
  },
  {
   "cell_type": "raw",
   "id": "f85c7297",
   "metadata": {},
   "source": [
    " Explain the difference between discrete and continuous data in calculating these measures. "
   ]
  },
  {
   "cell_type": "markdown",
   "id": "551fd5dd",
   "metadata": {},
   "source": [
    "* Discrete Data consists of distinct, separate values. It usually involves counting and whole numbers.\n",
    "\n",
    "* Continuous data can take any value within a given range. It often involves measurements and can have decimal points\n"
   ]
  },
  {
   "cell_type": "raw",
   "id": "3ad915cd",
   "metadata": {},
   "source": [
    " Provide an example of a dataset where each measure of central tendency differs. "
   ]
  },
  {
   "cell_type": "markdown",
   "id": "fca1f0e0",
   "metadata": {},
   "source": [
    "Study hours of three students A,B,C in continous 3 days is showing below\n",
    "A: 1 hr, 2 hr, 3 hr\n",
    "B: 5 hr, 5 hr, 5 hr\n",
    "C: 2 hr, 4 hr, 6 hr\n",
    "\n",
    "If we calculate the mean study time for each student's ,\n",
    "A: (1+2+3)/3 = 2\n",
    "B: (5+5+5)/3 = 5\n",
    "C: (2+4+6)/3 = 4\n",
    "\n",
    "The mean of each student is different.\n",
    "mean is 2 hours for A, 5 hours for B, and 4 hours for C.\n",
    "This shows how the central tendency (mean) can differ based on the data."
   ]
  },
  {
   "cell_type": "raw",
   "id": "1233edb4",
   "metadata": {},
   "source": [
    " When would you use mean vs. median in data analysis? Why? "
   ]
  },
  {
   "cell_type": "markdown",
   "id": "8e76cf76",
   "metadata": {},
   "source": [
    "mean is the average of set of numbers.The better to use mean when the numbers are in normal distribution.\n",
    "Otherwise we can use the median,it sort the values in ascending order and pick the middle value.we can use median when we want a more balanced view, especially when there are big differences in the numbers."
   ]
  },
  {
   "cell_type": "raw",
   "id": "37821185",
   "metadata": {},
   "source": [
    " How are mean, median, and mode affected by outliers? Explain with \n",
    "examples."
   ]
  },
  {
   "cell_type": "markdown",
   "id": "d3ba8db4",
   "metadata": {},
   "source": [
    "let's consider a group of friends' ages are 20, 21, 22, 23, 50. The mean gets pulled higher because of the 50. The median becomes 22, not really showing the impact of the 50. The mode remains unaffected because 20, 21, 22, and 23 are still the most common ages.\n",
    "Outliers can mess with the mean and median, but not so much with what's most common (mode)."
   ]
  },
  {
   "cell_type": "markdown",
   "id": "509f9e93",
   "metadata": {},
   "source": [
    "# Apple Quality Analysis"
   ]
  },
  {
   "cell_type": "code",
   "execution_count": 1,
   "id": "3531158e",
   "metadata": {},
   "outputs": [],
   "source": [
    "import pandas as pd"
   ]
  },
  {
   "cell_type": "code",
   "execution_count": 3,
   "id": "1195a683",
   "metadata": {},
   "outputs": [
    {
     "data": {
      "text/html": [
       "<div>\n",
       "<style scoped>\n",
       "    .dataframe tbody tr th:only-of-type {\n",
       "        vertical-align: middle;\n",
       "    }\n",
       "\n",
       "    .dataframe tbody tr th {\n",
       "        vertical-align: top;\n",
       "    }\n",
       "\n",
       "    .dataframe thead th {\n",
       "        text-align: right;\n",
       "    }\n",
       "</style>\n",
       "<table border=\"1\" class=\"dataframe\">\n",
       "  <thead>\n",
       "    <tr style=\"text-align: right;\">\n",
       "      <th></th>\n",
       "      <th>A_id</th>\n",
       "      <th>Size</th>\n",
       "      <th>Weight</th>\n",
       "      <th>Sweetness</th>\n",
       "      <th>Crunchiness</th>\n",
       "      <th>Juiciness</th>\n",
       "      <th>Ripeness</th>\n",
       "      <th>Acidity</th>\n",
       "      <th>Quality</th>\n",
       "    </tr>\n",
       "  </thead>\n",
       "  <tbody>\n",
       "    <tr>\n",
       "      <th>0</th>\n",
       "      <td>0.0</td>\n",
       "      <td>-3.970049</td>\n",
       "      <td>-2.512336</td>\n",
       "      <td>5.346330</td>\n",
       "      <td>-1.012009</td>\n",
       "      <td>1.844900</td>\n",
       "      <td>0.329840</td>\n",
       "      <td>-0.491590483</td>\n",
       "      <td>good</td>\n",
       "    </tr>\n",
       "    <tr>\n",
       "      <th>1</th>\n",
       "      <td>1.0</td>\n",
       "      <td>-1.195217</td>\n",
       "      <td>-2.839257</td>\n",
       "      <td>3.664059</td>\n",
       "      <td>1.588232</td>\n",
       "      <td>0.853286</td>\n",
       "      <td>0.867530</td>\n",
       "      <td>-0.722809367</td>\n",
       "      <td>good</td>\n",
       "    </tr>\n",
       "    <tr>\n",
       "      <th>2</th>\n",
       "      <td>2.0</td>\n",
       "      <td>-0.292024</td>\n",
       "      <td>-1.351282</td>\n",
       "      <td>-1.738429</td>\n",
       "      <td>-0.342616</td>\n",
       "      <td>2.838636</td>\n",
       "      <td>-0.038033</td>\n",
       "      <td>2.621636473</td>\n",
       "      <td>bad</td>\n",
       "    </tr>\n",
       "    <tr>\n",
       "      <th>3</th>\n",
       "      <td>3.0</td>\n",
       "      <td>-0.657196</td>\n",
       "      <td>-2.271627</td>\n",
       "      <td>1.324874</td>\n",
       "      <td>-0.097875</td>\n",
       "      <td>3.637970</td>\n",
       "      <td>-3.413761</td>\n",
       "      <td>0.790723217</td>\n",
       "      <td>good</td>\n",
       "    </tr>\n",
       "    <tr>\n",
       "      <th>4</th>\n",
       "      <td>4.0</td>\n",
       "      <td>1.364217</td>\n",
       "      <td>-1.296612</td>\n",
       "      <td>-0.384658</td>\n",
       "      <td>-0.553006</td>\n",
       "      <td>3.030874</td>\n",
       "      <td>-1.303849</td>\n",
       "      <td>0.501984036</td>\n",
       "      <td>good</td>\n",
       "    </tr>\n",
       "    <tr>\n",
       "      <th>...</th>\n",
       "      <td>...</td>\n",
       "      <td>...</td>\n",
       "      <td>...</td>\n",
       "      <td>...</td>\n",
       "      <td>...</td>\n",
       "      <td>...</td>\n",
       "      <td>...</td>\n",
       "      <td>...</td>\n",
       "      <td>...</td>\n",
       "    </tr>\n",
       "    <tr>\n",
       "      <th>3996</th>\n",
       "      <td>3996.0</td>\n",
       "      <td>-0.293118</td>\n",
       "      <td>1.949253</td>\n",
       "      <td>-0.204020</td>\n",
       "      <td>-0.640196</td>\n",
       "      <td>0.024523</td>\n",
       "      <td>-1.087900</td>\n",
       "      <td>1.854235285</td>\n",
       "      <td>good</td>\n",
       "    </tr>\n",
       "    <tr>\n",
       "      <th>3997</th>\n",
       "      <td>3997.0</td>\n",
       "      <td>-2.634515</td>\n",
       "      <td>-2.138247</td>\n",
       "      <td>-2.440461</td>\n",
       "      <td>0.657223</td>\n",
       "      <td>2.199709</td>\n",
       "      <td>4.763859</td>\n",
       "      <td>-1.334611391</td>\n",
       "      <td>bad</td>\n",
       "    </tr>\n",
       "    <tr>\n",
       "      <th>3998</th>\n",
       "      <td>3998.0</td>\n",
       "      <td>-4.008004</td>\n",
       "      <td>-1.779337</td>\n",
       "      <td>2.366397</td>\n",
       "      <td>-0.200329</td>\n",
       "      <td>2.161435</td>\n",
       "      <td>0.214488</td>\n",
       "      <td>-2.229719806</td>\n",
       "      <td>good</td>\n",
       "    </tr>\n",
       "    <tr>\n",
       "      <th>3999</th>\n",
       "      <td>3999.0</td>\n",
       "      <td>0.278540</td>\n",
       "      <td>-1.715505</td>\n",
       "      <td>0.121217</td>\n",
       "      <td>-1.154075</td>\n",
       "      <td>1.266677</td>\n",
       "      <td>-0.776571</td>\n",
       "      <td>1.599796456</td>\n",
       "      <td>good</td>\n",
       "    </tr>\n",
       "    <tr>\n",
       "      <th>4000</th>\n",
       "      <td>NaN</td>\n",
       "      <td>NaN</td>\n",
       "      <td>NaN</td>\n",
       "      <td>NaN</td>\n",
       "      <td>NaN</td>\n",
       "      <td>NaN</td>\n",
       "      <td>NaN</td>\n",
       "      <td>Created_by_Nidula_Elgiriyewithana</td>\n",
       "      <td>NaN</td>\n",
       "    </tr>\n",
       "  </tbody>\n",
       "</table>\n",
       "<p>4001 rows × 9 columns</p>\n",
       "</div>"
      ],
      "text/plain": [
       "        A_id      Size    Weight  Sweetness  Crunchiness  Juiciness  Ripeness  \\\n",
       "0        0.0 -3.970049 -2.512336   5.346330    -1.012009   1.844900  0.329840   \n",
       "1        1.0 -1.195217 -2.839257   3.664059     1.588232   0.853286  0.867530   \n",
       "2        2.0 -0.292024 -1.351282  -1.738429    -0.342616   2.838636 -0.038033   \n",
       "3        3.0 -0.657196 -2.271627   1.324874    -0.097875   3.637970 -3.413761   \n",
       "4        4.0  1.364217 -1.296612  -0.384658    -0.553006   3.030874 -1.303849   \n",
       "...      ...       ...       ...        ...          ...        ...       ...   \n",
       "3996  3996.0 -0.293118  1.949253  -0.204020    -0.640196   0.024523 -1.087900   \n",
       "3997  3997.0 -2.634515 -2.138247  -2.440461     0.657223   2.199709  4.763859   \n",
       "3998  3998.0 -4.008004 -1.779337   2.366397    -0.200329   2.161435  0.214488   \n",
       "3999  3999.0  0.278540 -1.715505   0.121217    -1.154075   1.266677 -0.776571   \n",
       "4000     NaN       NaN       NaN        NaN          NaN        NaN       NaN   \n",
       "\n",
       "                                Acidity Quality  \n",
       "0                          -0.491590483    good  \n",
       "1                          -0.722809367    good  \n",
       "2                           2.621636473     bad  \n",
       "3                           0.790723217    good  \n",
       "4                           0.501984036    good  \n",
       "...                                 ...     ...  \n",
       "3996                        1.854235285    good  \n",
       "3997                       -1.334611391     bad  \n",
       "3998                       -2.229719806    good  \n",
       "3999                        1.599796456    good  \n",
       "4000  Created_by_Nidula_Elgiriyewithana     NaN  \n",
       "\n",
       "[4001 rows x 9 columns]"
      ]
     },
     "execution_count": 3,
     "metadata": {},
     "output_type": "execute_result"
    }
   ],
   "source": [
    "apple=pd.read_csv(r\"C:\\Users\\akash\\Documents\\dataset\\apple_quality.csv.xls\")\n",
    "apple"
   ]
  },
  {
   "cell_type": "markdown",
   "id": "490839e7",
   "metadata": {},
   "source": [
    "**Those apples with more than 5 sweetness can be considered as a good \n",
    "quality apples?**"
   ]
  },
  {
   "cell_type": "code",
   "execution_count": 10,
   "id": "662409bc",
   "metadata": {},
   "outputs": [
    {
     "data": {
      "text/plain": [
       "Quality\n",
       "good    10\n",
       "bad      2\n",
       "Name: count, dtype: int64"
      ]
     },
     "execution_count": 10,
     "metadata": {},
     "output_type": "execute_result"
    }
   ],
   "source": [
    "A1=apple[apple['Sweetness']>5]\n",
    "A1['Quality'].value_counts()"
   ]
  },
  {
   "cell_type": "markdown",
   "id": "2b70edba",
   "metadata": {},
   "source": [
    "* There where 12 apples with more than 5 sweetness,in which 10 apples are good and 2 apples are bad"
   ]
  },
  {
   "cell_type": "markdown",
   "id": "1af779c7",
   "metadata": {},
   "source": [
    "**On average crunchiness make any difference in the quality of apples ?**"
   ]
  },
  {
   "cell_type": "code",
   "execution_count": 11,
   "id": "7ac8f66e",
   "metadata": {},
   "outputs": [
    {
     "data": {
      "text/plain": [
       "0.9681539557360279"
      ]
     },
     "execution_count": 11,
     "metadata": {},
     "output_type": "execute_result"
    }
   ],
   "source": [
    "apple[apple['Quality']=='good']['Crunchiness'].mean()"
   ]
  },
  {
   "cell_type": "code",
   "execution_count": 15,
   "id": "5501632a",
   "metadata": {},
   "outputs": [
    {
     "data": {
      "text/plain": [
       "1.0028712866427856"
      ]
     },
     "execution_count": 15,
     "metadata": {},
     "output_type": "execute_result"
    }
   ],
   "source": [
    "apple[apple['Quality']=='bad']['Crunchiness'].mean()"
   ]
  },
  {
   "cell_type": "markdown",
   "id": "8e7e5131",
   "metadata": {},
   "source": [
    "* There is a small differance in the average crunchines of the good quality(0.968) and bad quality apples(1.003)"
   ]
  },
  {
   "cell_type": "markdown",
   "id": "074d24e7",
   "metadata": {},
   "source": [
    "**If the ripeness is less than 1 means the quality is bad or most of them are \n",
    "bad?**"
   ]
  },
  {
   "cell_type": "code",
   "execution_count": 17,
   "id": "ed995361",
   "metadata": {},
   "outputs": [
    {
     "data": {
      "text/plain": [
       "Quality\n",
       "good    1418\n",
       "bad     1009\n",
       "Name: count, dtype: int64"
      ]
     },
     "execution_count": 17,
     "metadata": {},
     "output_type": "execute_result"
    }
   ],
   "source": [
    "AR=apple[apple['Ripeness']<1]\n",
    "AR['Quality'].value_counts()"
   ]
  },
  {
   "cell_type": "markdown",
   "id": "f18eaa78",
   "metadata": {},
   "source": [
    "*  when ripeness is less than 1 there is 1418 good apples and 1009 bad apples \n",
    "\n",
    "* Most of apples with ripeness less than 1 are in \"good quality\" catogory and there is also apples in bad quality catogory\n",
    "\n",
    "* we can't say all the apples with ripenesss less than 1 are bad quality.There is a lot of good quality apples in this catogory"
   ]
  },
  {
   "cell_type": "markdown",
   "id": "44bd0ab1",
   "metadata": {},
   "source": [
    "**On average what is the size of apples?**"
   ]
  },
  {
   "cell_type": "code",
   "execution_count": 18,
   "id": "89ab7453",
   "metadata": {},
   "outputs": [
    {
     "data": {
      "text/plain": [
       "-0.50301462982675"
      ]
     },
     "execution_count": 18,
     "metadata": {},
     "output_type": "execute_result"
    }
   ],
   "source": [
    "apple['Size'].mean()"
   ]
  },
  {
   "cell_type": "markdown",
   "id": "5a9a3f8e",
   "metadata": {},
   "source": [
    "* Average size of apple is -0.50301462982675"
   ]
  },
  {
   "cell_type": "markdown",
   "id": "ee41291e",
   "metadata": {},
   "source": [
    "**If the weight increases the size of the apples also increases?**"
   ]
  },
  {
   "cell_type": "code",
   "execution_count": 20,
   "id": "25744ebf",
   "metadata": {},
   "outputs": [],
   "source": [
    "import seaborn as sns"
   ]
  },
  {
   "cell_type": "code",
   "execution_count": 21,
   "id": "e2ccbccf",
   "metadata": {},
   "outputs": [
    {
     "data": {
      "text/plain": [
       "<Axes: xlabel='Weight', ylabel='Size'>"
      ]
     },
     "execution_count": 21,
     "metadata": {},
     "output_type": "execute_result"
    },
    {
     "data": {
      "image/png": "[encoded data removed]",
      "text/plain": [
       "<Figure size 640x480 with 1 Axes>"
      ]
     },
     "metadata": {},
     "output_type": "display_data"
    }
   ],
   "source": [
    "sns.scatterplot(data = apple,x='Weight',y='Size')"
   ]
  },
  {
   "cell_type": "markdown",
   "id": "adb9fa84",
   "metadata": {},
   "source": [
    "* Most dots are lies in center and not able to see any pattern\n",
    "\n",
    "* There is no relationship seems between weight and size of the apple.We can't say that big apple have more weight and small one have less weight"
   ]
  },
  {
   "cell_type": "markdown",
   "id": "2db3b359",
   "metadata": {},
   "source": [
    "# Car Data Analysis "
   ]
  },
  {
   "cell_type": "code",
   "execution_count": 24,
   "id": "3d7ba442",
   "metadata": {},
   "outputs": [
    {
     "data": {
      "text/html": [
       "<div>\n",
       "<style scoped>\n",
       "    .dataframe tbody tr th:only-of-type {\n",
       "        vertical-align: middle;\n",
       "    }\n",
       "\n",
       "    .dataframe tbody tr th {\n",
       "        vertical-align: top;\n",
       "    }\n",
       "\n",
       "    .dataframe thead th {\n",
       "        text-align: right;\n",
       "    }\n",
       "</style>\n",
       "<table border=\"1\" class=\"dataframe\">\n",
       "  <thead>\n",
       "    <tr style=\"text-align: right;\">\n",
       "      <th></th>\n",
       "      <th>Car ID</th>\n",
       "      <th>Brand</th>\n",
       "      <th>Model</th>\n",
       "      <th>Year</th>\n",
       "      <th>Color</th>\n",
       "      <th>Mileage</th>\n",
       "      <th>Price</th>\n",
       "      <th>Location</th>\n",
       "    </tr>\n",
       "  </thead>\n",
       "  <tbody>\n",
       "    <tr>\n",
       "      <th>0</th>\n",
       "      <td>1</td>\n",
       "      <td>Toyota</td>\n",
       "      <td>Camry</td>\n",
       "      <td>2018</td>\n",
       "      <td>White</td>\n",
       "      <td>45000</td>\n",
       "      <td>18000</td>\n",
       "      <td>Los Angeles</td>\n",
       "    </tr>\n",
       "    <tr>\n",
       "      <th>1</th>\n",
       "      <td>2</td>\n",
       "      <td>Honda</td>\n",
       "      <td>Civic</td>\n",
       "      <td>2019</td>\n",
       "      <td>Blue</td>\n",
       "      <td>35000</td>\n",
       "      <td>16000</td>\n",
       "      <td>New York</td>\n",
       "    </tr>\n",
       "    <tr>\n",
       "      <th>2</th>\n",
       "      <td>3</td>\n",
       "      <td>Ford</td>\n",
       "      <td>Focus</td>\n",
       "      <td>2017</td>\n",
       "      <td>Silver</td>\n",
       "      <td>55000</td>\n",
       "      <td>14000</td>\n",
       "      <td>Chicago</td>\n",
       "    </tr>\n",
       "    <tr>\n",
       "      <th>3</th>\n",
       "      <td>4</td>\n",
       "      <td>Chevrolet</td>\n",
       "      <td>Cruze</td>\n",
       "      <td>2016</td>\n",
       "      <td>Red</td>\n",
       "      <td>60000</td>\n",
       "      <td>12000</td>\n",
       "      <td>Miami</td>\n",
       "    </tr>\n",
       "    <tr>\n",
       "      <th>4</th>\n",
       "      <td>5</td>\n",
       "      <td>Hyundai</td>\n",
       "      <td>Elantra</td>\n",
       "      <td>2018</td>\n",
       "      <td>Black</td>\n",
       "      <td>40000</td>\n",
       "      <td>15000</td>\n",
       "      <td>San Francisco</td>\n",
       "    </tr>\n",
       "    <tr>\n",
       "      <th>...</th>\n",
       "      <td>...</td>\n",
       "      <td>...</td>\n",
       "      <td>...</td>\n",
       "      <td>...</td>\n",
       "      <td>...</td>\n",
       "      <td>...</td>\n",
       "      <td>...</td>\n",
       "      <td>...</td>\n",
       "    </tr>\n",
       "    <tr>\n",
       "      <th>1995</th>\n",
       "      <td>1996</td>\n",
       "      <td>Hyundai</td>\n",
       "      <td>Palisade</td>\n",
       "      <td>2019</td>\n",
       "      <td>Silver</td>\n",
       "      <td>65000</td>\n",
       "      <td>22000</td>\n",
       "      <td>San Francisco</td>\n",
       "    </tr>\n",
       "    <tr>\n",
       "      <th>1996</th>\n",
       "      <td>1997</td>\n",
       "      <td>Toyota</td>\n",
       "      <td>Sienna</td>\n",
       "      <td>2018</td>\n",
       "      <td>Red</td>\n",
       "      <td>55000</td>\n",
       "      <td>16000</td>\n",
       "      <td>Dallas</td>\n",
       "    </tr>\n",
       "    <tr>\n",
       "      <th>1997</th>\n",
       "      <td>1998</td>\n",
       "      <td>Honda</td>\n",
       "      <td>Fit</td>\n",
       "      <td>2018</td>\n",
       "      <td>Gray</td>\n",
       "      <td>50000</td>\n",
       "      <td>14000</td>\n",
       "      <td>Atlanta</td>\n",
       "    </tr>\n",
       "    <tr>\n",
       "      <th>1998</th>\n",
       "      <td>1999</td>\n",
       "      <td>Ford</td>\n",
       "      <td>Fusion</td>\n",
       "      <td>2017</td>\n",
       "      <td>White</td>\n",
       "      <td>55000</td>\n",
       "      <td>19000</td>\n",
       "      <td>Phoenix</td>\n",
       "    </tr>\n",
       "    <tr>\n",
       "      <th>1999</th>\n",
       "      <td>2000</td>\n",
       "      <td>Chevrolet</td>\n",
       "      <td>Malibu</td>\n",
       "      <td>2016</td>\n",
       "      <td>Blue</td>\n",
       "      <td>30000</td>\n",
       "      <td>23000</td>\n",
       "      <td>Houston</td>\n",
       "    </tr>\n",
       "  </tbody>\n",
       "</table>\n",
       "<p>2000 rows × 8 columns</p>\n",
       "</div>"
      ],
      "text/plain": [
       "      Car ID      Brand     Model  Year   Color  Mileage  Price       Location\n",
       "0          1     Toyota     Camry  2018   White    45000  18000    Los Angeles\n",
       "1          2      Honda     Civic  2019    Blue    35000  16000       New York\n",
       "2          3       Ford     Focus  2017  Silver    55000  14000        Chicago\n",
       "3          4  Chevrolet     Cruze  2016     Red    60000  12000          Miami\n",
       "4          5    Hyundai   Elantra  2018   Black    40000  15000  San Francisco\n",
       "...      ...        ...       ...   ...     ...      ...    ...            ...\n",
       "1995    1996    Hyundai  Palisade  2019  Silver    65000  22000  San Francisco\n",
       "1996    1997     Toyota    Sienna  2018     Red    55000  16000         Dallas\n",
       "1997    1998      Honda       Fit  2018    Gray    50000  14000        Atlanta\n",
       "1998    1999       Ford    Fusion  2017   White    55000  19000        Phoenix\n",
       "1999    2000  Chevrolet    Malibu  2016    Blue    30000  23000        Houston\n",
       "\n",
       "[2000 rows x 8 columns]"
      ]
     },
     "execution_count": 24,
     "metadata": {},
     "output_type": "execute_result"
    }
   ],
   "source": [
    "car=pd.read_csv(r\"C:\\Users\\akash\\Documents\\dataset\\Car Data.csv.xls\")\n",
    "car"
   ]
  },
  {
   "cell_type": "markdown",
   "id": "f9832abc",
   "metadata": {},
   "source": [
    "**Which brand of car gives highest average mileage in the New York city?**"
   ]
  },
  {
   "cell_type": "code",
   "execution_count": 25,
   "id": "4bba645b",
   "metadata": {},
   "outputs": [],
   "source": [
    "car_br =car[car['Location']=='New York']"
   ]
  },
  {
   "cell_type": "code",
   "execution_count": 31,
   "id": "5cb07960",
   "metadata": {},
   "outputs": [
    {
     "data": {
      "text/plain": [
       "Brand\n",
       "Honda    45958.90411\n",
       "Name: Mileage, dtype: float64"
      ]
     },
     "execution_count": 31,
     "metadata": {},
     "output_type": "execute_result"
    }
   ],
   "source": [
    "car_br.groupby('Brand')['Mileage'].mean()"
   ]
  },
  {
   "cell_type": "markdown",
   "id": "1d58a975",
   "metadata": {},
   "source": [
    "* Honda gives highest average mileage in newyork city "
   ]
  },
  {
   "cell_type": "markdown",
   "id": "90998ff3",
   "metadata": {},
   "source": [
    "**Which brand of cars was mostly launched in San Francisco?**"
   ]
  },
  {
   "cell_type": "code",
   "execution_count": 34,
   "id": "b87e8388",
   "metadata": {},
   "outputs": [
    {
     "data": {
      "text/plain": [
       "0    Hyundai\n",
       "Name: Brand, dtype: object"
      ]
     },
     "execution_count": 34,
     "metadata": {},
     "output_type": "execute_result"
    }
   ],
   "source": [
    "car_sanf =car[car['Location']=='San Francisco']\n",
    "car_sanf['Brand'].mode()"
   ]
  },
  {
   "cell_type": "markdown",
   "id": "8a4c4307",
   "metadata": {},
   "source": [
    "* Hyundai is most launched car in san francisco"
   ]
  },
  {
   "cell_type": "markdown",
   "id": "e2abcbfc",
   "metadata": {},
   "source": [
    "**Among those car brands released in 2018 which one comes mostly with Silver Color?**"
   ]
  },
  {
   "cell_type": "code",
   "execution_count": 36,
   "id": "c2d70600",
   "metadata": {},
   "outputs": [
    {
     "data": {
      "text/plain": [
       "0    Toyota\n",
       "Name: Brand, dtype: object"
      ]
     },
     "execution_count": 36,
     "metadata": {},
     "output_type": "execute_result"
    }
   ],
   "source": [
    "car_sil =car[(car['Year']==2018)&(car['Color']=='Silver')]\n",
    "car_sil['Brand'].mode()"
   ]
  },
  {
   "cell_type": "markdown",
   "id": "c598c143",
   "metadata": {},
   "source": [
    "* Toyota brand relesed most silver colored car in 2018"
   ]
  },
  {
   "cell_type": "markdown",
   "id": "6cd46c56",
   "metadata": {},
   "source": [
    "**Average mileage of Honda,Toyota and Ford in New York?**"
   ]
  },
  {
   "cell_type": "code",
   "execution_count": 37,
   "id": "7786f46a",
   "metadata": {},
   "outputs": [],
   "source": [
    "car_ny=car[car['Location']=='New York']"
   ]
  },
  {
   "cell_type": "code",
   "execution_count": 41,
   "id": "72599cc8",
   "metadata": {},
   "outputs": [
    {
     "data": {
      "text/plain": [
       "45958.90410958904"
      ]
     },
     "execution_count": 41,
     "metadata": {},
     "output_type": "execute_result"
    }
   ],
   "source": [
    "car_ny[car_ny['Brand']=='Honda']['Mileage'].mean()"
   ]
  },
  {
   "cell_type": "markdown",
   "id": "1e79c287",
   "metadata": {},
   "source": [
    "* Average Mileage of Honda in New York = 45958.90410958904"
   ]
  },
  {
   "cell_type": "code",
   "execution_count": 42,
   "id": "b6f346d4",
   "metadata": {},
   "outputs": [
    {
     "data": {
      "text/plain": [
       "nan"
      ]
     },
     "execution_count": 42,
     "metadata": {},
     "output_type": "execute_result"
    }
   ],
   "source": [
    "car_ny[car_ny['Brand']=='Toyota']['Mileage'].mean()"
   ]
  },
  {
   "cell_type": "markdown",
   "id": "008f9f85",
   "metadata": {},
   "source": [
    "* There is no Toyota cars in Newyork city"
   ]
  },
  {
   "cell_type": "code",
   "execution_count": 43,
   "id": "15bdb164",
   "metadata": {},
   "outputs": [
    {
     "data": {
      "text/plain": [
       "nan"
      ]
     },
     "execution_count": 43,
     "metadata": {},
     "output_type": "execute_result"
    }
   ],
   "source": [
    "car_ny[car_ny['Brand']=='Ford']['Mileage'].mean()"
   ]
  },
  {
   "cell_type": "markdown",
   "id": "7d1feca2",
   "metadata": {},
   "source": [
    "* There is no Ford cars in Newyork city"
   ]
  },
  {
   "cell_type": "markdown",
   "id": "128235ec",
   "metadata": {},
   "source": [
    "**White color cars are mostly released in Los Angeles right?**"
   ]
  },
  {
   "cell_type": "code",
   "execution_count": 50,
   "id": "a94615c4",
   "metadata": {},
   "outputs": [
    {
     "data": {
      "text/plain": [
       "0    New York\n",
       "Name: Location, dtype: object"
      ]
     },
     "execution_count": 50,
     "metadata": {},
     "output_type": "execute_result"
    }
   ],
   "source": [
    "car_w =car[car['Color']=='White']\n",
    "car_l['Location'].mode()"
   ]
  },
  {
   "cell_type": "markdown",
   "id": "61f09413",
   "metadata": {},
   "source": [
    "* White color cars are mostly released in New York"
   ]
  },
  {
   "cell_type": "markdown",
   "id": "564e4d61",
   "metadata": {},
   "source": [
    "**Cars worth more than 22000 Dollar mostly comes in Red color. Verify if it is True or Not?**"
   ]
  },
  {
   "cell_type": "code",
   "execution_count": 52,
   "id": "6d590c05",
   "metadata": {},
   "outputs": [
    {
     "data": {
      "text/plain": [
       "0    Blue\n",
       "Name: Color, dtype: object"
      ]
     },
     "execution_count": 52,
     "metadata": {},
     "output_type": "execute_result"
    }
   ],
   "source": [
    "car_r=car[car['Price']>22000]\n",
    "car_r['Color'].mode()"
   ]
  },
  {
   "cell_type": "markdown",
   "id": "eee7db93",
   "metadata": {},
   "source": [
    "* Its not true,Cars worth more than 22000 Dollar mostly comes in Blue color"
   ]
  },
  {
   "cell_type": "markdown",
   "id": "974a9d20",
   "metadata": {},
   "source": [
    "**Median price of Toyota cars is double of the median price of Cheverlot cars. Verify?**"
   ]
  },
  {
   "cell_type": "code",
   "execution_count": 55,
   "id": "54edba76",
   "metadata": {},
   "outputs": [
    {
     "data": {
      "text/plain": [
       "19000.0"
      ]
     },
     "execution_count": 55,
     "metadata": {},
     "output_type": "execute_result"
    }
   ],
   "source": [
    "T_car=car[car['Brand']=='Toyota']\n",
    "T_car['Price'].median()"
   ]
  },
  {
   "cell_type": "code",
   "execution_count": 58,
   "id": "399fc0d7",
   "metadata": {},
   "outputs": [
    {
     "data": {
      "text/plain": [
       "19000.0"
      ]
     },
     "execution_count": 58,
     "metadata": {},
     "output_type": "execute_result"
    }
   ],
   "source": [
    "C_car=car[car['Brand']=='Chevrolet']\n",
    "C_car['Price'].median()"
   ]
  },
  {
   "cell_type": "markdown",
   "id": "ed2885d9",
   "metadata": {},
   "source": [
    "* The median price for both Toyota and Chevrolet cars are same"
   ]
  },
  {
   "cell_type": "markdown",
   "id": "7a378ce1",
   "metadata": {},
   "source": [
    "**What price is actually the favorite price of car dealers when it comes to market?**"
   ]
  },
  {
   "cell_type": "code",
   "execution_count": 59,
   "id": "d17eccaf",
   "metadata": {},
   "outputs": [
    {
     "data": {
      "text/plain": [
       "0    18000\n",
       "Name: Price, dtype: int64"
      ]
     },
     "execution_count": 59,
     "metadata": {},
     "output_type": "execute_result"
    }
   ],
   "source": [
    "car['Price'].mode()"
   ]
  },
  {
   "cell_type": "markdown",
   "id": "638609ff",
   "metadata": {},
   "source": [
    "* 18000 is the favorite price of car dealers when it comes to market"
   ]
  },
  {
   "cell_type": "markdown",
   "id": "6a3f1cda",
   "metadata": {},
   "source": [
    "# Music Sales Data Analysis"
   ]
  },
  {
   "cell_type": "code",
   "execution_count": 60,
   "id": "f553273b",
   "metadata": {},
   "outputs": [
    {
     "data": {
      "text/html": [
       "<div>\n",
       "<style scoped>\n",
       "    .dataframe tbody tr th:only-of-type {\n",
       "        vertical-align: middle;\n",
       "    }\n",
       "\n",
       "    .dataframe tbody tr th {\n",
       "        vertical-align: top;\n",
       "    }\n",
       "\n",
       "    .dataframe thead th {\n",
       "        text-align: right;\n",
       "    }\n",
       "</style>\n",
       "<table border=\"1\" class=\"dataframe\">\n",
       "  <thead>\n",
       "    <tr style=\"text-align: right;\">\n",
       "      <th></th>\n",
       "      <th>index</th>\n",
       "      <th>Format</th>\n",
       "      <th>Metric</th>\n",
       "      <th>Year</th>\n",
       "      <th>Number of Records</th>\n",
       "      <th>Value (Actual)</th>\n",
       "    </tr>\n",
       "  </thead>\n",
       "  <tbody>\n",
       "    <tr>\n",
       "      <th>0</th>\n",
       "      <td>0</td>\n",
       "      <td>CD</td>\n",
       "      <td>Units</td>\n",
       "      <td>1973</td>\n",
       "      <td>1</td>\n",
       "      <td>NaN</td>\n",
       "    </tr>\n",
       "    <tr>\n",
       "      <th>1</th>\n",
       "      <td>1</td>\n",
       "      <td>CD</td>\n",
       "      <td>Units</td>\n",
       "      <td>1974</td>\n",
       "      <td>1</td>\n",
       "      <td>NaN</td>\n",
       "    </tr>\n",
       "    <tr>\n",
       "      <th>2</th>\n",
       "      <td>2</td>\n",
       "      <td>CD</td>\n",
       "      <td>Units</td>\n",
       "      <td>1975</td>\n",
       "      <td>1</td>\n",
       "      <td>NaN</td>\n",
       "    </tr>\n",
       "    <tr>\n",
       "      <th>3</th>\n",
       "      <td>3</td>\n",
       "      <td>CD</td>\n",
       "      <td>Units</td>\n",
       "      <td>1976</td>\n",
       "      <td>1</td>\n",
       "      <td>NaN</td>\n",
       "    </tr>\n",
       "    <tr>\n",
       "      <th>4</th>\n",
       "      <td>4</td>\n",
       "      <td>CD</td>\n",
       "      <td>Units</td>\n",
       "      <td>1977</td>\n",
       "      <td>1</td>\n",
       "      <td>NaN</td>\n",
       "    </tr>\n",
       "    <tr>\n",
       "      <th>...</th>\n",
       "      <td>...</td>\n",
       "      <td>...</td>\n",
       "      <td>...</td>\n",
       "      <td>...</td>\n",
       "      <td>...</td>\n",
       "      <td>...</td>\n",
       "    </tr>\n",
       "    <tr>\n",
       "      <th>3003</th>\n",
       "      <td>3003</td>\n",
       "      <td>Vinyl Single</td>\n",
       "      <td>Value (Adjusted)</td>\n",
       "      <td>2015</td>\n",
       "      <td>1</td>\n",
       "      <td>6.205390</td>\n",
       "    </tr>\n",
       "    <tr>\n",
       "      <th>3004</th>\n",
       "      <td>3004</td>\n",
       "      <td>Vinyl Single</td>\n",
       "      <td>Value (Adjusted)</td>\n",
       "      <td>2016</td>\n",
       "      <td>1</td>\n",
       "      <td>5.198931</td>\n",
       "    </tr>\n",
       "    <tr>\n",
       "      <th>3005</th>\n",
       "      <td>3005</td>\n",
       "      <td>Vinyl Single</td>\n",
       "      <td>Value (Adjusted)</td>\n",
       "      <td>2017</td>\n",
       "      <td>1</td>\n",
       "      <td>6.339678</td>\n",
       "    </tr>\n",
       "    <tr>\n",
       "      <th>3006</th>\n",
       "      <td>3006</td>\n",
       "      <td>Vinyl Single</td>\n",
       "      <td>Value (Adjusted)</td>\n",
       "      <td>2018</td>\n",
       "      <td>1</td>\n",
       "      <td>5.386197</td>\n",
       "    </tr>\n",
       "    <tr>\n",
       "      <th>3007</th>\n",
       "      <td>3007</td>\n",
       "      <td>Vinyl Single</td>\n",
       "      <td>Value (Adjusted)</td>\n",
       "      <td>2019</td>\n",
       "      <td>1</td>\n",
       "      <td>6.795946</td>\n",
       "    </tr>\n",
       "  </tbody>\n",
       "</table>\n",
       "<p>3008 rows × 6 columns</p>\n",
       "</div>"
      ],
      "text/plain": [
       "      index        Format            Metric  Year  Number of Records  \\\n",
       "0         0            CD             Units  1973                  1   \n",
       "1         1            CD             Units  1974                  1   \n",
       "2         2            CD             Units  1975                  1   \n",
       "3         3            CD             Units  1976                  1   \n",
       "4         4            CD             Units  1977                  1   \n",
       "...     ...           ...               ...   ...                ...   \n",
       "3003   3003  Vinyl Single  Value (Adjusted)  2015                  1   \n",
       "3004   3004  Vinyl Single  Value (Adjusted)  2016                  1   \n",
       "3005   3005  Vinyl Single  Value (Adjusted)  2017                  1   \n",
       "3006   3006  Vinyl Single  Value (Adjusted)  2018                  1   \n",
       "3007   3007  Vinyl Single  Value (Adjusted)  2019                  1   \n",
       "\n",
       "      Value (Actual)  \n",
       "0                NaN  \n",
       "1                NaN  \n",
       "2                NaN  \n",
       "3                NaN  \n",
       "4                NaN  \n",
       "...              ...  \n",
       "3003        6.205390  \n",
       "3004        5.198931  \n",
       "3005        6.339678  \n",
       "3006        5.386197  \n",
       "3007        6.795946  \n",
       "\n",
       "[3008 rows x 6 columns]"
      ]
     },
     "execution_count": 60,
     "metadata": {},
     "output_type": "execute_result"
    }
   ],
   "source": [
    "music =pd.read_csv(r\"C:\\Users\\akash\\Documents\\dataset\\MusicData.csv.xls\")\n",
    "music"
   ]
  },
  {
   "cell_type": "markdown",
   "id": "0fa7b10e",
   "metadata": {},
   "source": [
    "**In CD format what is the average value before and after missing value imputation?**"
   ]
  },
  {
   "cell_type": "code",
   "execution_count": 62,
   "id": "2477586b",
   "metadata": {},
   "outputs": [
    {
     "data": {
      "text/plain": [
       "4733.432620484848"
      ]
     },
     "execution_count": 62,
     "metadata": {},
     "output_type": "execute_result"
    }
   ],
   "source": [
    "mu_cd =music[music['Format']=='CD']\n",
    "mu_cd['Value (Actual)'].mean()"
   ]
  },
  {
   "cell_type": "markdown",
   "id": "580a0f57",
   "metadata": {},
   "source": [
    "* Before imputation average value is 4733.432620484848"
   ]
  },
  {
   "cell_type": "code",
   "execution_count": 63,
   "id": "9aaccd0e",
   "metadata": {},
   "outputs": [
    {
     "data": {
      "text/plain": [
       "386.1059711920907"
      ]
     },
     "execution_count": 63,
     "metadata": {},
     "output_type": "execute_result"
    }
   ],
   "source": [
    "music.fillna(music['Value (Actual)'].median(),inplace = True)\n",
    "music['Value (Actual)'].mean()"
   ]
  },
  {
   "cell_type": "markdown",
   "id": "10c083bc",
   "metadata": {},
   "source": [
    "* After imputation average value is 386.1059711920907\n"
   ]
  },
  {
   "cell_type": "markdown",
   "id": "74e9a7d0",
   "metadata": {},
   "source": [
    "**In which year most number of Vinyl Single is released and what was its average value?**"
   ]
  },
  {
   "cell_type": "code",
   "execution_count": 82,
   "id": "eb992a27",
   "metadata": {},
   "outputs": [
    {
     "data": {
      "text/plain": [
       "0     1973\n",
       "1     1974\n",
       "2     1975\n",
       "3     1976\n",
       "4     1977\n",
       "5     1978\n",
       "6     1979\n",
       "7     1980\n",
       "8     1981\n",
       "9     1982\n",
       "10    1983\n",
       "11    1984\n",
       "12    1985\n",
       "13    1986\n",
       "14    1987\n",
       "15    1988\n",
       "16    1989\n",
       "17    1990\n",
       "18    1991\n",
       "19    1992\n",
       "20    1993\n",
       "21    1994\n",
       "22    1995\n",
       "23    1996\n",
       "24    1997\n",
       "25    1998\n",
       "26    1999\n",
       "27    2000\n",
       "28    2001\n",
       "29    2002\n",
       "30    2003\n",
       "31    2004\n",
       "32    2005\n",
       "33    2006\n",
       "34    2007\n",
       "35    2008\n",
       "36    2009\n",
       "37    2010\n",
       "38    2011\n",
       "39    2012\n",
       "40    2013\n",
       "41    2014\n",
       "42    2015\n",
       "43    2016\n",
       "44    2017\n",
       "45    2018\n",
       "46    2019\n",
       "Name: Year, dtype: int64"
      ]
     },
     "execution_count": 82,
     "metadata": {},
     "output_type": "execute_result"
    }
   ],
   "source": [
    "mu_vin =music[music['Format']=='Vinyl Single']\n",
    "mu_vin_yrs =mu_vin['Year'].mode()\n",
    "#mu_vin_yrs.value_counts()\n",
    "mu_vin_yrs.sort_values()"
   ]
  },
  {
   "cell_type": "markdown",
   "id": "4a8480e8",
   "metadata": {},
   "source": [
    "* Vinyl Singles were consistently released in every year from 1973 to 2019 each year having 3 releases."
   ]
  },
  {
   "cell_type": "code",
   "execution_count": 83,
   "id": "65fe5b63",
   "metadata": {},
   "outputs": [
    {
     "data": {
      "text/plain": [
       "156.41968258383687"
      ]
     },
     "execution_count": 83,
     "metadata": {},
     "output_type": "execute_result"
    }
   ],
   "source": [
    "mu_vin['Value (Actual)'].mean()"
   ]
  },
  {
   "cell_type": "markdown",
   "id": "ee59a995",
   "metadata": {},
   "source": [
    "* Average value of Vinyl single is 156.41968258383687"
   ]
  },
  {
   "cell_type": "markdown",
   "id": "b6e240dd",
   "metadata": {},
   "source": [
    "**In 2016 on average what was the sales value of each format?**"
   ]
  },
  {
   "cell_type": "code",
   "execution_count": 85,
   "id": "1c3d3bac",
   "metadata": {},
   "outputs": [
    {
     "data": {
      "text/plain": [
       "Format\n",
       "8 - Track                               63.900000\n",
       "CD                                     810.946500\n",
       "CD Single                                0.221769\n",
       "Cassette                                63.900000\n",
       "Cassette Single                         63.900000\n",
       "DVD Audio                                1.980622\n",
       "Download Album                         626.316606\n",
       "Download Music Video                     3.654207\n",
       "Download Single                        867.354666\n",
       "Kiosk                                    2.609526\n",
       "LP/EP                                  249.603016\n",
       "Limited Tier Paid Subscription         271.950188\n",
       "Music Video (Physical)                  40.017692\n",
       "On-Demand Streaming (Ad-Supported)     505.332891\n",
       "Other Ad-Supported Streaming            83.910231\n",
       "Other Digital                           17.700536\n",
       "Other Tapes                             63.900000\n",
       "Paid Subscription                     2317.320899\n",
       "Paid Subscriptions                      22.690000\n",
       "Ringtones & Ringbacks                   46.314718\n",
       "SACD                                     0.845897\n",
       "SoundExchange Distributions            912.717982\n",
       "Synchronization                        221.843418\n",
       "Vinyl Single                             3.494647\n",
       "Name: Value (Actual), dtype: float64"
      ]
     },
     "execution_count": 85,
     "metadata": {},
     "output_type": "execute_result"
    }
   ],
   "source": [
    "MU16 =music[music['Year']==2016].groupby('Format')\n",
    "MU16['Value (Actual)'].mean()"
   ]
  },
  {
   "cell_type": "markdown",
   "id": "8d623b62",
   "metadata": {},
   "source": [
    "**Average sales in 2016 is greater than in 2017?**"
   ]
  },
  {
   "cell_type": "code",
   "execution_count": 86,
   "id": "845d3fe8",
   "metadata": {},
   "outputs": [
    {
     "data": {
      "text/plain": [
       "272.40331080359374"
      ]
     },
     "execution_count": 86,
     "metadata": {},
     "output_type": "execute_result"
    }
   ],
   "source": [
    "mu16 = music[music['Year']==2016]\n",
    "mu16['Value (Actual)'].mean()"
   ]
  },
  {
   "cell_type": "code",
   "execution_count": 87,
   "id": "01411ade",
   "metadata": {},
   "outputs": [
    {
     "data": {
      "text/plain": [
       "305.4886390341094"
      ]
     },
     "execution_count": 87,
     "metadata": {},
     "output_type": "execute_result"
    }
   ],
   "source": [
    "mu17 = music[music['Year']==2017]\n",
    "mu17['Value (Actual)'].mean()"
   ]
  },
  {
   "cell_type": "markdown",
   "id": "5e27cc1b",
   "metadata": {},
   "source": [
    "* Average sales of 2017 is higher when compared to 2016"
   ]
  },
  {
   "cell_type": "markdown",
   "id": "a9474569",
   "metadata": {},
   "source": [
    "**Average sales in 1973 is how far from the average sales in 2019? is it a positive change or negative ?**"
   ]
  },
  {
   "cell_type": "code",
   "execution_count": 90,
   "id": "3a1d5e22",
   "metadata": {},
   "outputs": [
    {
     "data": {
      "text/plain": [
       "-96.75003905589057"
      ]
     },
     "execution_count": 90,
     "metadata": {},
     "output_type": "execute_result"
    }
   ],
   "source": [
    "mu_1973=music[music['Year']==1973]\n",
    "mu_2019=music[music['Year']==2019]\n",
    "mu_1973['Value (Actual)'].mean() - mu_2019['Value (Actual)'].mean()"
   ]
  },
  {
   "cell_type": "markdown",
   "id": "38646470",
   "metadata": {},
   "source": [
    "* The negative change (-96.75) shows that 2019 has a positive change"
   ]
  },
  {
   "cell_type": "code",
   "execution_count": null,
   "id": "8b520be9",
   "metadata": {},
   "outputs": [],
   "source": []
  }
 ],
 "metadata": {
  "kernelspec": {
   "display_name": "Python 3 (ipykernel)",
   "language": "python",
   "name": "python3"
  },
  "language_info": {
   "codemirror_mode": {
    "name": "ipython",
    "version": 3
   },
   "file_extension": ".py",
   "mimetype": "text/x-python",
   "name": "python",
   "nbconvert_exporter": "python",
   "pygments_lexer": "ipython3",
   "version": "3.11.5"
  }
 },
 "nbformat": 4,
 "nbformat_minor": 5
}
